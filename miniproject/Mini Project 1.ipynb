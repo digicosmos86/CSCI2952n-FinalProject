{
 "cells": [
  {
   "cell_type": "code",
   "execution_count": null,
   "id": "fa778d3c-318a-4726-aaa8-2fb00464cd30",
   "metadata": {
    "tags": []
   },
   "outputs": [],
   "source": [
    "import numpy as np\n",
    "import torch\n",
    "from pkg_resources import packaging\n",
    "\n",
    "print(\"Torch version:\", torch.__version__)"
   ]
  },
  {
   "cell_type": "code",
   "execution_count": null,
   "id": "5102b3e3-8567-44ba-be97-8dc2d3ea4382",
   "metadata": {
    "tags": []
   },
   "outputs": [],
   "source": [
    "import clip\n",
    "\n",
    "clip.available_models()"
   ]
  },
  {
   "cell_type": "code",
   "execution_count": null,
   "id": "d364a6fc-b311-46d5-b03c-6c5e8266c071",
   "metadata": {
    "tags": []
   },
   "outputs": [],
   "source": [
    "model, preprocess = clip.load(\"RN50\")\n",
    "model.cuda().eval()"
   ]
  },
  {
   "cell_type": "code",
   "execution_count": null,
   "id": "691705ef-d5d5-444d-ab49-d9a27aa0c765",
   "metadata": {},
   "outputs": [],
   "source": []
  }
 ],
 "metadata": {
  "kernelspec": {
   "display_name": "cs2952n",
   "language": "python",
   "name": "cs2952n"
  },
  "language_info": {
   "codemirror_mode": {
    "name": "ipython",
    "version": 3
   },
   "file_extension": ".py",
   "mimetype": "text/x-python",
   "name": "python",
   "nbconvert_exporter": "python",
   "pygments_lexer": "ipython3",
   "version": "3.9.16"
  }
 },
 "nbformat": 4,
 "nbformat_minor": 5
}
